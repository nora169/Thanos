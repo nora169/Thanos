{
 "cells": [
  {
   "cell_type": "code",
   "execution_count": 5,
   "id": "42f17b5d",
   "metadata": {},
   "outputs": [],
   "source": [
    "import random"
   ]
  },
  {
   "cell_type": "code",
   "execution_count": 6,
   "id": "29fd6a51",
   "metadata": {},
   "outputs": [],
   "source": [
    "import os"
   ]
  },
  {
   "cell_type": "code",
   "execution_count": 7,
   "id": "43bc6532",
   "metadata": {},
   "outputs": [
    {
     "data": {
      "text/plain": [
       "['.ipynb_checkpoints', 'backup', 'thanos.ipynb', 'thanos.jpg', 'universe']"
      ]
     },
     "execution_count": 7,
     "metadata": {},
     "output_type": "execute_result"
    }
   ],
   "source": [
    "os.listdir('.')"
   ]
  },
  {
   "cell_type": "code",
   "execution_count": 10,
   "id": "6373e90d",
   "metadata": {},
   "outputs": [],
   "source": [
    "lis=os.listdir('C:/Users/noura/projects_jupyter/epsilon/session 10/Thanos/notebooks/Thanos project/Thanos project/Thanos project/universe')"
   ]
  },
  {
   "cell_type": "code",
   "execution_count": 11,
   "id": "595e0f19",
   "metadata": {},
   "outputs": [
    {
     "data": {
      "text/plain": [
       "['cover001.png',\n",
       " 'cover002.png',\n",
       " 'cover003.png',\n",
       " 'cover004.png',\n",
       " 'cover005.png',\n",
       " 'cover006.png',\n",
       " 'cover007.png',\n",
       " 'cover008.png',\n",
       " 'cover009.png',\n",
       " 'cover010.png',\n",
       " 'cover011.png',\n",
       " 'cover012.png',\n",
       " 'cover013.png',\n",
       " 'cover014.png',\n",
       " 'cover015.png',\n",
       " 'cover016.png',\n",
       " 'cover017.png',\n",
       " 'cover018.png',\n",
       " 'cover019.png',\n",
       " 'cover020.png',\n",
       " 'cover021.png',\n",
       " 'cover022.png',\n",
       " 'cover023.png',\n",
       " 'cover024.png',\n",
       " 'cover025.png',\n",
       " 'cover026.png',\n",
       " 'cover027.png',\n",
       " 'cover028.png',\n",
       " 'cover029.png',\n",
       " 'cover030.png',\n",
       " 'cover031.png',\n",
       " 'cover032.png',\n",
       " 'cover033.png',\n",
       " 'cover034.png',\n",
       " 'cover035.png',\n",
       " 'cover036.png',\n",
       " 'cover037.png',\n",
       " 'cover038.png',\n",
       " 'cover039.png',\n",
       " 'cover040.png',\n",
       " 'cover041.png',\n",
       " 'cover042.png',\n",
       " 'cover043.png',\n",
       " 'cover044.png',\n",
       " 'cover045.png',\n",
       " 'cover046.png',\n",
       " 'cover047.png',\n",
       " 'cover048.png',\n",
       " 'cover049.png',\n",
       " 'cover050.png']"
      ]
     },
     "execution_count": 11,
     "metadata": {},
     "output_type": "execute_result"
    }
   ],
   "source": [
    "lis"
   ]
  },
  {
   "cell_type": "code",
   "execution_count": 12,
   "id": "f9514605",
   "metadata": {},
   "outputs": [
    {
     "data": {
      "text/plain": [
       "50"
      ]
     },
     "execution_count": 12,
     "metadata": {},
     "output_type": "execute_result"
    }
   ],
   "source": [
    "l=len(lis)\n",
    "l"
   ]
  },
  {
   "cell_type": "code",
   "execution_count": 14,
   "id": "00cc37d5",
   "metadata": {},
   "outputs": [],
   "source": [
    "for i in range (int(l/2)):\n",
    "    lis=os.listdir('C:/Users/noura/projects_jupyter/epsilon/session 10/Thanos/notebooks/Thanos project/Thanos project/Thanos project/universe')\n",
    "    r=random.choice(lis) \n",
    "    os.remove('C:/Users/noura/projects_jupyter/epsilon/session 10/Thanos/notebooks/Thanos project/Thanos project/Thanos project/universe/'+r)"
   ]
  },
  {
   "cell_type": "code",
   "execution_count": null,
   "id": "b602843f",
   "metadata": {},
   "outputs": [],
   "source": []
  }
 ],
 "metadata": {
  "kernelspec": {
   "display_name": "Python 3 (ipykernel)",
   "language": "python",
   "name": "python3"
  },
  "language_info": {
   "codemirror_mode": {
    "name": "ipython",
    "version": 3
   },
   "file_extension": ".py",
   "mimetype": "text/x-python",
   "name": "python",
   "nbconvert_exporter": "python",
   "pygments_lexer": "ipython3",
   "version": "3.9.7"
  }
 },
 "nbformat": 4,
 "nbformat_minor": 5
}
